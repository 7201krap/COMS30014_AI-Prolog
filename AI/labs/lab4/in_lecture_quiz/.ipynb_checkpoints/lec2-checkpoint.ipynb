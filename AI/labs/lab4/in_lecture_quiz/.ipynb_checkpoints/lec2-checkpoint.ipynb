{
 "cells": [
  {
   "cell_type": "markdown",
   "metadata": {},
   "source": [
    "### LAB 2"
   ]
  },
  {
   "cell_type": "markdown",
   "metadata": {},
   "source": [
    "1. What’s the difference between a stochastic algorithm and deterministic algorithm?"
   ]
  },
  {
   "cell_type": "markdown",
   "metadata": {},
   "source": [
    "- stochastic algorithm --> use random number generators \n",
    "\n",
    "- deterministic algorithm --> use determined number. It is not random."
   ]
  },
  {
   "cell_type": "markdown",
   "metadata": {},
   "source": [
    "2. Why does the temperature of a simulated annealing algorithm start off high and get lower over time?"
   ]
  },
  {
   "cell_type": "markdown",
   "metadata": {},
   "source": [
    "- Temperature 은 step 에 관한 함수임. \n",
    "\n",
    "- High temperature 일때는 we are casual. 잘못 선택된 것들 (q < p) 라도 을 q 를 허용한다 (q => p). 왜냐하면 이렇게 함으로서 더 좋은 꼭대기를 찾을 수도 있기 때문. \n",
    "\n",
    "- Low temperature 일떄는 잘못된 선택을 거의 하지 않도록 한다. \n",
    "\n",
    "- p 와 q 가 매우 가깝다면, q 로 갈 수 있는 가능성이 높지만, 멀다면 q 로 갈 수 있는 가능성이 낮다. "
   ]
  },
  {
   "cell_type": "markdown",
   "metadata": {},
   "source": [
    "3. If hill-climber is stuck, what can you infer about the solution that it has found?"
   ]
  },
  {
   "cell_type": "markdown",
   "metadata": {},
   "source": [
    "- stuck 한 그곳이 가장 높은 곳이다. "
   ]
  },
  {
   "cell_type": "markdown",
   "metadata": {},
   "source": [
    "4. Explain the explore/exploit trade-offs made by best-first search, tabu search & simulated annealing."
   ]
  },
  {
   "cell_type": "markdown",
   "metadata": {},
   "source": [
    "- Steepest Ascent Hill Climbers (best-first search) do explore the local neighbourhood fully before greedily exploiting the best local next step.\n",
    "\n",
    "- Tabu search : Tabu is a little more exploratory than regular hill climbing. (이때까지 간곳들을 다 저장하고 있음) It keeps a record of solutions that have not year been fully exploited.\n",
    "\n",
    "- Simulated Annealing starts off more exploratory (at high temps) but gets more exploitative over time (as temp falls). 왜냐하면 처음에는 낮은 곳으로 갈 여지를 좀 주는데 temperature 가 높아지면 낮은 곳으로 갈 여지를 별로 안줌. "
   ]
  },
  {
   "cell_type": "markdown",
   "metadata": {},
   "source": []
  }
 ],
 "metadata": {
  "kernelspec": {
   "display_name": "Python 3",
   "language": "python",
   "name": "python3"
  },
  "language_info": {
   "codemirror_mode": {
    "name": "ipython",
    "version": 3
   },
   "file_extension": ".py",
   "mimetype": "text/x-python",
   "name": "python",
   "nbconvert_exporter": "python",
   "pygments_lexer": "ipython3",
   "version": "3.8.5"
  }
 },
 "nbformat": 4,
 "nbformat_minor": 4
}
