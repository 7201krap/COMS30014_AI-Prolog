{
 "cells": [
  {
   "cell_type": "markdown",
   "metadata": {},
   "source": [
    "### LAB 3"
   ]
  },
  {
   "cell_type": "markdown",
   "metadata": {},
   "source": [
    "1. Name two different kinds of cross-over operator."
   ]
  },
  {
   "cell_type": "markdown",
   "metadata": {},
   "source": [
    "< Types of cross over >\n",
    "- one-point\n",
    "- two-point\n",
    "- uniform"
   ]
  },
  {
   "cell_type": "markdown",
   "metadata": {},
   "source": [
    "2. Uniform crossover of two L-bit binary genotypes can result in how many different offspring genotypes?"
   ]
  },
  {
   "cell_type": "markdown",
   "metadata": {},
   "source": [
    "2^L"
   ]
  },
  {
   "cell_type": "markdown",
   "metadata": {},
   "source": [
    "3. What is the difference between roulette-wheel selection and tournament selection?"
   ]
  },
  {
   "cell_type": "markdown",
   "metadata": {},
   "source": [
    "- roulette-wheel selection : 룰렛을 만들고, 만들어진 룰렛을 이용하여 확률적으로 염색체를 선택하는 것. 룰렛휠 선택을 이용하면, 적합도가 높은 염색체가 더 높은 확률로 선택되도록 설정하는 동시에 염색체들의 다양성도 유지할 수 있다. \n",
    "\n",
    "- tournament selection : sameple k unique individuals at random from the population. And pick a winner (e.g. the one with highest fitness) to be a parent. To find N parents, run N independent tournaments."
   ]
  },
  {
   "cell_type": "markdown",
   "metadata": {},
   "source": []
  }
 ],
 "metadata": {
  "kernelspec": {
   "display_name": "Python 3",
   "language": "python",
   "name": "python3"
  },
  "language_info": {
   "codemirror_mode": {
    "name": "ipython",
    "version": 3
   },
   "file_extension": ".py",
   "mimetype": "text/x-python",
   "name": "python",
   "nbconvert_exporter": "python",
   "pygments_lexer": "ipython3",
   "version": "3.8.5"
  }
 },
 "nbformat": 4,
 "nbformat_minor": 4
}
