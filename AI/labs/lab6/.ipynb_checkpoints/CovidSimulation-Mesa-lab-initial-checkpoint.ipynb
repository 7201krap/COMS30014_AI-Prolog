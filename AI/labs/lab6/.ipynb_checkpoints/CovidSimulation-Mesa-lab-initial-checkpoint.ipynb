{
 "cells": [
  {
   "cell_type": "code",
   "execution_count": 14,
   "metadata": {},
   "outputs": [],
   "source": [
    "#######################################\n",
    "# COMS30014 - Artificial Intelligence #\n",
    "# Multiagent Systems Lab - I          #\n",
    "# Covid-19 Simulation                 #\n",
    "#######################################\n",
    "\n",
    "# Before starting, make sure you have installed Mesa \n",
    "# You could install via command line --- pip install mesa\n",
    "# For generating plots, you will need matplotlib which too you can install via command line --- pip install matplotlib"
   ]
  },
  {
   "cell_type": "code",
   "execution_count": 90,
   "metadata": {
    "id": "glNIQt9Lkwf7"
   },
   "outputs": [],
   "source": [
    "NUM_OF_AGENTS = 1000\n",
    "\n",
    "# PLACES\n",
    "PARK = 0\n",
    "HOME = 1\n",
    "GROCERY = 2\n",
    "QC = 3 # Quarantine center\n",
    "\n",
    "# INFECTION STATES\n",
    "NOT_INFECTED = 0\n",
    "INFECTED_A = 1\n",
    "INFECTED_S = 2\n",
    "CRITICAL = 3\n",
    "CURED = 4\n",
    "DECEASED = 5\n",
    "\n",
    "\n",
    "\n",
    "# Capacity of quarantine center\n",
    "# 전체 인구의 10 프로를 quarantine 시킬 수 있음. \n",
    "QC_LIMIT = 1000//10 # Capacity of quarantine center"
   ]
  },
  {
   "cell_type": "code",
   "execution_count": 91,
   "metadata": {
    "id": "gvRWatxlUOI_"
   },
   "outputs": [],
   "source": [
    "from mesa import Agent, Model\n",
    "from mesa.time import RandomActivation\n",
    "from mesa.space import MultiGrid\n",
    "from mesa.datacollection import DataCollector\n",
    "\n",
    "class HumanAgent(Agent):\n",
    "    def __init__(self, unique_id, model):\n",
    "        super().__init__(unique_id, model)\n",
    "        self.homeId = unique_id//4\n",
    "        self.health = NOT_INFECTED\n",
    "\n",
    "    def step(self):\n",
    "        self.updateHealth()\n",
    "        self.move()\n",
    "\n",
    "    # Function for mobility pattern modeling\n",
    "    \n",
    "    def move(self):\n",
    "        x, y = self.pos\n",
    "        if x==QC:\n",
    "            return\n",
    "        if self.model.quarantine and self.model.QC_Occupancy < QC_LIMIT and self.health == CRITICAL:\n",
    "            self.model.grid.move_agent(self, (QC,0))\n",
    "            self.model.QC_Occupancy += 1\n",
    "            return\n",
    "        if self.model.quarantine and self.model.QC_Occupancy < QC_LIMIT and self.health == INFECTED_S and self.random.uniform(0, 1) <= 0.20:\n",
    "            self.model.grid.move_agent(self, (QC,0))\n",
    "            self.model.QC_Occupancy += 1\n",
    "            return\n",
    "        if x == HOME:\n",
    "            p = self.random.uniform(0, 1)\n",
    "            # Visit park with 10% probability\n",
    "            if p <= 0.1:\n",
    "                newX = PARK\n",
    "                newY = self.random.choice((0,1)) # Visit one of the two parks\n",
    "            # Visit grocery store with 20% probability\n",
    "            elif p <= 0.3:\n",
    "                newX = GROCERY\n",
    "                newY = self.random.choice((0,1,2,3,4)) # Visit one of the five grocery stores\n",
    "            else:\n",
    "                newX = x\n",
    "                newY = y\n",
    "        if x == GROCERY or x == PARK: # If grocery or park, return home\n",
    "            newX = HOME\n",
    "            newY = self.homeId\n",
    "            \n",
    "        self.model.grid.move_agent(self, (newX,newY))\n",
    "\n",
    "    # Function for modeling the spread of the virus\n",
    "\n",
    "    def updateHealth(self):\n",
    "        p = self.random.uniform(0, 1)\n",
    "         \n",
    "        # 만약 지금 잠복기 상태라면 \n",
    "        if self.health == INFECTED_A and p > 0.75:  \n",
    "                self.health += 1 # INFECTED_S state 로 변함 \n",
    "                \n",
    "        # 만약 지금 증상이 나타 난다면 \n",
    "        elif self.health == INFECTED_S: \n",
    "            if p > 0.75 and p <= 0.85:\n",
    "                self.health += 1 # CRITICAL state 로 변함 \n",
    "            elif p > 0.85:\n",
    "                self.health = CURED # CURED state 로 변함 \n",
    "                x,y = self.pos\n",
    "                if x == QC:\n",
    "                    self.model.QC_Occupancy -= 1      \n",
    "                    \n",
    "        # 만약 상태가 매우 심각하다면 \n",
    "        elif self.health == CRITICAL:\n",
    "            # 20% 확률로 치유 \n",
    "            if p > 0.75 and p <= 0.95:\n",
    "                self.health += 1\n",
    "                x,y = self.pos\n",
    "                if x == QC:\n",
    "                    self.model.QC_Occupancy -= 1\n",
    "            # 5% 확률로 죽음 \n",
    "            elif p > 0.95:\n",
    "                self.health = DECEASED\n",
    "                self.model.deceasedCount += 1\n",
    "                x,y = self.pos\n",
    "                if x == QC:\n",
    "                    self.model.QC_Occupancy -= 1\n",
    "                    \n",
    "        # *******************************************\n",
    "        # My implementation  \n",
    "        elif self.health == CURED:\n",
    "            alpha = alpha - 0.01\n",
    "            if p*alpha < 0.5:\n",
    "                self.health = NOT_INFECTED\n",
    "        # *******************************************\n",
    "        \n",
    "        return\n",
    "    \n",
    "    def infect(self):\n",
    "        p = self.random.uniform(0, 1)\n",
    "        if self.health == NOT_INFECTED and p > self.model.p0b:\n",
    "                self.health += 1\n",
    "\n",
    "\n",
    "def compute_infected(model):\n",
    "    infectedAgents = [agent for agent in model.schedule.agents if agent.health in (INFECTED_A, INFECTED_S, CRITICAL) ]\n",
    "    return len(infectedAgents)\n",
    "\n",
    "class CovidModel(Model):\n",
    "    \"\"\"A model with some number of agents.\"\"\"\n",
    "    def __init__(self, N, startingState, quarantine = False, socialDistancing = False):\n",
    "        self.num_agents = N\n",
    "        # self.random.seed(42)\n",
    "        self.QC_Occupancy = 0\n",
    "        self.deceasedCount = 0\n",
    "        self.quarantine = quarantine\n",
    "        self.grid = MultiGrid(4 if quarantine else 3, 250, False)\n",
    "        self.schedule = RandomActivation(self)\n",
    "        self.running = True\n",
    "        \n",
    "        # With socialdistancing the probability of infection is 10% (p0b = 0.9) otherwise it is 50%\n",
    "        self.p0b = 0.5\n",
    "        \n",
    "        ###########\n",
    "        # HINT: \n",
    "        # You need to update the the next if block to correctly set infection probability when social distancing is TRUE\n",
    "        # You need to change quarantine center capacity too\n",
    "        ###########\n",
    "        \n",
    "        # 사회적 거리두기를 하면 infection rate 이 10% 이다.\n",
    "        if socialDistancing:\n",
    "            self.p0b = 0.9\n",
    "        # 사회적 거리두기를 하지 않으면 infection rate 이 90% 이다.\n",
    "        else:\n",
    "            self.p0b = 0.5\n",
    "        \n",
    "        \n",
    "        # Create agents\n",
    "        for i in range(self.num_agents):\n",
    "            a = HumanAgent(i, self)\n",
    "            self.schedule.add(a)\n",
    "            self.grid.place_agent(a, (HOME, a.homeId))\n",
    "        for a in self.random.sample(self.schedule.agents,int(startingState*N)):\n",
    "            a.health = INFECTED_A\n",
    "        self.datacollector = DataCollector(\n",
    "            model_reporters={\"Infected\": compute_infected,\n",
    "                             \"QC_Occupancy\": \"QC_Occupancy\"}\n",
    "            )\n",
    "    def step(self):\n",
    "        self.datacollector.collect(self)\n",
    "        '''Advance the model by one step.'''\n",
    "        self.schedule.step()\n",
    "        self.identifyAgentsAndUpdateSpread()\n",
    "    def identifyAgentsAndUpdateSpread(self):\n",
    "        # Park\n",
    "        for y in range(2):\n",
    "            agents = self.grid.get_cell_list_contents([(PARK,y)])\n",
    "            self.updateSpread(agents)\n",
    "        # Grocery\n",
    "        for y in range(5):\n",
    "            agents = self.grid.get_cell_list_contents([(GROCERY,y)])\n",
    "            self.updateSpread(agents)\n",
    "        # Home\n",
    "        for y in range(250):\n",
    "            agents = self.grid.get_cell_list_contents([(HOME,y)])\n",
    "            self.updateSpread(agents)\n",
    "    def updateSpread(self, agents):\n",
    "        if any(a.health in (INFECTED_A, INFECTED_S, CRITICAL) for a in agents):\n",
    "            [a.infect() for a in agents]"
   ]
  },
  {
   "cell_type": "code",
   "execution_count": 92,
   "metadata": {
    "id": "PjPjGA9uyaBY"
   },
   "outputs": [],
   "source": [
    "def runSimulation(startingState,quarantine=False,socialDistancing=False):\n",
    "    modelInst = CovidModel(NUM_OF_AGENTS, startingState, quarantine, socialDistancing)\n",
    "    i = 0\n",
    "    alpha = 1\n",
    "    \n",
    "    while any(a.health in (INFECTED_A, INFECTED_S, CRITICAL) for a in modelInst.schedule.agents):\n",
    "        i += 1\n",
    "        modelInst.step()\n",
    "        \n",
    "    modelDF = modelInst.datacollector.get_model_vars_dataframe()\n",
    "    \n",
    "    return i, modelInst.deceasedCount, modelDF.QC_Occupancy,modelDF.Infected"
   ]
  },
  {
   "cell_type": "markdown",
   "metadata": {
    "id": "BF4937_SU85E"
   },
   "source": [
    "# Baseline 1\n",
    "StartingState = 10%\n",
    "\n",
    "Quarantine=False\n",
    "\n",
    "Social Distancing=False"
   ]
  },
  {
   "cell_type": "code",
   "execution_count": 93,
   "metadata": {
    "colab": {
     "base_uri": "https://localhost:8080/",
     "height": 316
    },
    "id": "XLcEKQfAU_nP",
    "outputId": "6b666fe7-f0e9-4973-81bd-028b23ab5c7b"
   },
   "outputs": [
    {
     "ename": "UnboundLocalError",
     "evalue": "local variable 'alpha' referenced before assignment",
     "output_type": "error",
     "traceback": [
      "\u001b[0;31m---------------------------------------------------------------------------\u001b[0m",
      "\u001b[0;31mUnboundLocalError\u001b[0m                         Traceback (most recent call last)",
      "\u001b[0;32m<ipython-input-93-0bdce58e037e>\u001b[0m in \u001b[0;36m<module>\u001b[0;34m\u001b[0m\n\u001b[1;32m      8\u001b[0m \u001b[0maverageCasualties\u001b[0m \u001b[0;34m=\u001b[0m \u001b[0;36m0\u001b[0m\u001b[0;34m\u001b[0m\u001b[0;34m\u001b[0m\u001b[0m\n\u001b[1;32m      9\u001b[0m \u001b[0;32mfor\u001b[0m \u001b[0mi\u001b[0m \u001b[0;32min\u001b[0m \u001b[0mrange\u001b[0m\u001b[0;34m(\u001b[0m\u001b[0;36m10\u001b[0m\u001b[0;34m)\u001b[0m\u001b[0;34m:\u001b[0m\u001b[0;34m\u001b[0m\u001b[0;34m\u001b[0m\u001b[0m\n\u001b[0;32m---> 10\u001b[0;31m     \u001b[0mdays\u001b[0m\u001b[0;34m,\u001b[0m \u001b[0mCasualties\u001b[0m\u001b[0;34m,\u001b[0m \u001b[0mQC_Occupancy\u001b[0m\u001b[0;34m,\u001b[0m \u001b[0mInfected\u001b[0m \u001b[0;34m=\u001b[0m \u001b[0mrunSimulation\u001b[0m\u001b[0;34m(\u001b[0m\u001b[0mStartingState\u001b[0m\u001b[0;34m/\u001b[0m\u001b[0;36m100\u001b[0m\u001b[0;34m,\u001b[0m\u001b[0mquarantine\u001b[0m\u001b[0;34m,\u001b[0m\u001b[0msocialDistancing\u001b[0m\u001b[0;34m)\u001b[0m\u001b[0;34m\u001b[0m\u001b[0;34m\u001b[0m\u001b[0m\n\u001b[0m\u001b[1;32m     11\u001b[0m     \u001b[0maverageDays\u001b[0m\u001b[0;34m+=\u001b[0m\u001b[0mdays\u001b[0m\u001b[0;34m\u001b[0m\u001b[0;34m\u001b[0m\u001b[0m\n\u001b[1;32m     12\u001b[0m     \u001b[0mdayWithMaxInfectionRate\u001b[0m\u001b[0;34m+=\u001b[0m\u001b[0mInfected\u001b[0m\u001b[0;34m.\u001b[0m\u001b[0midxmax\u001b[0m\u001b[0;34m(\u001b[0m\u001b[0;34m)\u001b[0m\u001b[0;34m\u001b[0m\u001b[0;34m\u001b[0m\u001b[0m\n",
      "\u001b[0;32m<ipython-input-92-a855403a3b36>\u001b[0m in \u001b[0;36mrunSimulation\u001b[0;34m(startingState, quarantine, socialDistancing)\u001b[0m\n\u001b[1;32m      5\u001b[0m     \u001b[0;32mwhile\u001b[0m \u001b[0many\u001b[0m\u001b[0;34m(\u001b[0m\u001b[0ma\u001b[0m\u001b[0;34m.\u001b[0m\u001b[0mhealth\u001b[0m \u001b[0;32min\u001b[0m \u001b[0;34m(\u001b[0m\u001b[0mINFECTED_A\u001b[0m\u001b[0;34m,\u001b[0m \u001b[0mINFECTED_S\u001b[0m\u001b[0;34m,\u001b[0m \u001b[0mCRITICAL\u001b[0m\u001b[0;34m)\u001b[0m \u001b[0;32mfor\u001b[0m \u001b[0ma\u001b[0m \u001b[0;32min\u001b[0m \u001b[0mmodelInst\u001b[0m\u001b[0;34m.\u001b[0m\u001b[0mschedule\u001b[0m\u001b[0;34m.\u001b[0m\u001b[0magents\u001b[0m\u001b[0;34m)\u001b[0m\u001b[0;34m:\u001b[0m\u001b[0;34m\u001b[0m\u001b[0;34m\u001b[0m\u001b[0m\n\u001b[1;32m      6\u001b[0m         \u001b[0mi\u001b[0m \u001b[0;34m+=\u001b[0m \u001b[0;36m1\u001b[0m\u001b[0;34m\u001b[0m\u001b[0;34m\u001b[0m\u001b[0m\n\u001b[0;32m----> 7\u001b[0;31m         \u001b[0mmodelInst\u001b[0m\u001b[0;34m.\u001b[0m\u001b[0mstep\u001b[0m\u001b[0;34m(\u001b[0m\u001b[0;34m)\u001b[0m\u001b[0;34m\u001b[0m\u001b[0;34m\u001b[0m\u001b[0m\n\u001b[0m\u001b[1;32m      8\u001b[0m \u001b[0;34m\u001b[0m\u001b[0m\n\u001b[1;32m      9\u001b[0m     \u001b[0mmodelDF\u001b[0m \u001b[0;34m=\u001b[0m \u001b[0mmodelInst\u001b[0m\u001b[0;34m.\u001b[0m\u001b[0mdatacollector\u001b[0m\u001b[0;34m.\u001b[0m\u001b[0mget_model_vars_dataframe\u001b[0m\u001b[0;34m(\u001b[0m\u001b[0;34m)\u001b[0m\u001b[0;34m\u001b[0m\u001b[0;34m\u001b[0m\u001b[0m\n",
      "\u001b[0;32m<ipython-input-91-4a8f8557e525>\u001b[0m in \u001b[0;36mstep\u001b[0;34m(self)\u001b[0m\n\u001b[1;32m    145\u001b[0m         \u001b[0mself\u001b[0m\u001b[0;34m.\u001b[0m\u001b[0mdatacollector\u001b[0m\u001b[0;34m.\u001b[0m\u001b[0mcollect\u001b[0m\u001b[0;34m(\u001b[0m\u001b[0mself\u001b[0m\u001b[0;34m)\u001b[0m\u001b[0;34m\u001b[0m\u001b[0;34m\u001b[0m\u001b[0m\n\u001b[1;32m    146\u001b[0m         \u001b[0;34m'''Advance the model by one step.'''\u001b[0m\u001b[0;34m\u001b[0m\u001b[0;34m\u001b[0m\u001b[0m\n\u001b[0;32m--> 147\u001b[0;31m         \u001b[0mself\u001b[0m\u001b[0;34m.\u001b[0m\u001b[0mschedule\u001b[0m\u001b[0;34m.\u001b[0m\u001b[0mstep\u001b[0m\u001b[0;34m(\u001b[0m\u001b[0;34m)\u001b[0m\u001b[0;34m\u001b[0m\u001b[0;34m\u001b[0m\u001b[0m\n\u001b[0m\u001b[1;32m    148\u001b[0m         \u001b[0mself\u001b[0m\u001b[0;34m.\u001b[0m\u001b[0midentifyAgentsAndUpdateSpread\u001b[0m\u001b[0;34m(\u001b[0m\u001b[0;34m)\u001b[0m\u001b[0;34m\u001b[0m\u001b[0;34m\u001b[0m\u001b[0m\n\u001b[1;32m    149\u001b[0m     \u001b[0;32mdef\u001b[0m \u001b[0midentifyAgentsAndUpdateSpread\u001b[0m\u001b[0;34m(\u001b[0m\u001b[0mself\u001b[0m\u001b[0;34m)\u001b[0m\u001b[0;34m:\u001b[0m\u001b[0;34m\u001b[0m\u001b[0;34m\u001b[0m\u001b[0m\n",
      "\u001b[0;32m/Library/Frameworks/Python.framework/Versions/3.8/lib/python3.8/site-packages/mesa/time.py\u001b[0m in \u001b[0;36mstep\u001b[0;34m(self)\u001b[0m\n\u001b[1;32m    118\u001b[0m         \"\"\"\n\u001b[1;32m    119\u001b[0m         \u001b[0;32mfor\u001b[0m \u001b[0magent\u001b[0m \u001b[0;32min\u001b[0m \u001b[0mself\u001b[0m\u001b[0;34m.\u001b[0m\u001b[0magent_buffer\u001b[0m\u001b[0;34m(\u001b[0m\u001b[0mshuffled\u001b[0m\u001b[0;34m=\u001b[0m\u001b[0;32mTrue\u001b[0m\u001b[0;34m)\u001b[0m\u001b[0;34m:\u001b[0m\u001b[0;34m\u001b[0m\u001b[0;34m\u001b[0m\u001b[0m\n\u001b[0;32m--> 120\u001b[0;31m             \u001b[0magent\u001b[0m\u001b[0;34m.\u001b[0m\u001b[0mstep\u001b[0m\u001b[0;34m(\u001b[0m\u001b[0;34m)\u001b[0m\u001b[0;34m\u001b[0m\u001b[0;34m\u001b[0m\u001b[0m\n\u001b[0m\u001b[1;32m    121\u001b[0m         \u001b[0mself\u001b[0m\u001b[0;34m.\u001b[0m\u001b[0msteps\u001b[0m \u001b[0;34m+=\u001b[0m \u001b[0;36m1\u001b[0m\u001b[0;34m\u001b[0m\u001b[0;34m\u001b[0m\u001b[0m\n\u001b[1;32m    122\u001b[0m         \u001b[0mself\u001b[0m\u001b[0;34m.\u001b[0m\u001b[0mtime\u001b[0m \u001b[0;34m+=\u001b[0m \u001b[0;36m1\u001b[0m\u001b[0;34m\u001b[0m\u001b[0;34m\u001b[0m\u001b[0m\n",
      "\u001b[0;32m<ipython-input-91-4a8f8557e525>\u001b[0m in \u001b[0;36mstep\u001b[0;34m(self)\u001b[0m\n\u001b[1;32m     11\u001b[0m \u001b[0;34m\u001b[0m\u001b[0m\n\u001b[1;32m     12\u001b[0m     \u001b[0;32mdef\u001b[0m \u001b[0mstep\u001b[0m\u001b[0;34m(\u001b[0m\u001b[0mself\u001b[0m\u001b[0;34m)\u001b[0m\u001b[0;34m:\u001b[0m\u001b[0;34m\u001b[0m\u001b[0;34m\u001b[0m\u001b[0m\n\u001b[0;32m---> 13\u001b[0;31m         \u001b[0mself\u001b[0m\u001b[0;34m.\u001b[0m\u001b[0mupdateHealth\u001b[0m\u001b[0;34m(\u001b[0m\u001b[0;34m)\u001b[0m\u001b[0;34m\u001b[0m\u001b[0;34m\u001b[0m\u001b[0m\n\u001b[0m\u001b[1;32m     14\u001b[0m         \u001b[0mself\u001b[0m\u001b[0;34m.\u001b[0m\u001b[0mmove\u001b[0m\u001b[0;34m(\u001b[0m\u001b[0;34m)\u001b[0m\u001b[0;34m\u001b[0m\u001b[0;34m\u001b[0m\u001b[0m\n\u001b[1;32m     15\u001b[0m \u001b[0;34m\u001b[0m\u001b[0m\n",
      "\u001b[0;32m<ipython-input-91-4a8f8557e525>\u001b[0m in \u001b[0;36mupdateHealth\u001b[0;34m(self)\u001b[0m\n\u001b[1;32m     85\u001b[0m         \u001b[0;31m# My implementation\u001b[0m\u001b[0;34m\u001b[0m\u001b[0;34m\u001b[0m\u001b[0;34m\u001b[0m\u001b[0m\n\u001b[1;32m     86\u001b[0m         \u001b[0;32melif\u001b[0m \u001b[0mself\u001b[0m\u001b[0;34m.\u001b[0m\u001b[0mhealth\u001b[0m \u001b[0;34m==\u001b[0m \u001b[0mCURED\u001b[0m\u001b[0;34m:\u001b[0m\u001b[0;34m\u001b[0m\u001b[0;34m\u001b[0m\u001b[0m\n\u001b[0;32m---> 87\u001b[0;31m             \u001b[0malpha\u001b[0m \u001b[0;34m=\u001b[0m \u001b[0malpha\u001b[0m \u001b[0;34m-\u001b[0m \u001b[0;36m0.001\u001b[0m\u001b[0;34m\u001b[0m\u001b[0;34m\u001b[0m\u001b[0m\n\u001b[0m\u001b[1;32m     88\u001b[0m             \u001b[0;32mif\u001b[0m \u001b[0mp\u001b[0m\u001b[0;34m*\u001b[0m\u001b[0malpha\u001b[0m \u001b[0;34m<\u001b[0m \u001b[0;36m0.5\u001b[0m\u001b[0;34m:\u001b[0m\u001b[0;34m\u001b[0m\u001b[0;34m\u001b[0m\u001b[0m\n\u001b[1;32m     89\u001b[0m                 \u001b[0mself\u001b[0m\u001b[0;34m.\u001b[0m\u001b[0mhealth\u001b[0m \u001b[0;34m=\u001b[0m \u001b[0mNOT_INFECTED\u001b[0m\u001b[0;34m\u001b[0m\u001b[0;34m\u001b[0m\u001b[0m\n",
      "\u001b[0;31mUnboundLocalError\u001b[0m: local variable 'alpha' referenced before assignment"
     ]
    }
   ],
   "source": [
    "StartingState = 0.1\n",
    "quarantine=False\n",
    "socialDistancing=False\n",
    "\n",
    "averageDays = 0\n",
    "dayWithMaxInfectionRate = 0\n",
    "maxInfection = 0\n",
    "averageCasualties = 0\n",
    "for i in range(10):\n",
    "    days, Casualties, QC_Occupancy, Infected = runSimulation(StartingState/100,quarantine,socialDistancing)\n",
    "    averageDays+=days\n",
    "    dayWithMaxInfectionRate+=Infected.idxmax()\n",
    "    maxInfection += Infected.max()\n",
    "    averageCasualties += Casualties\n",
    "    if i == 9:\n",
    "        # QC_Occupancy.plot(legend=True)\n",
    "        Infected.plot(legend=True)\n",
    "print('Average number of days before stabilization: ' + str(averageDays/10))\n",
    "print('Average of the Day with peak Infection ('+str(maxInfection/10)+'): ' + str(dayWithMaxInfectionRate/10))\n",
    "print('Average Number of Casualties: ' + str(averageCasualties/10))\n"
   ]
  },
  {
   "cell_type": "markdown",
   "metadata": {
    "id": "NI_OUc-gby6-"
   },
   "source": [
    "# Baseline 2\n",
    "StartingState = 25%\n",
    "\n",
    "Quarantine=False\n",
    "\n",
    "Social Distancing=False"
   ]
  },
  {
   "cell_type": "code",
   "execution_count": 41,
   "metadata": {
    "colab": {
     "base_uri": "https://localhost:8080/",
     "height": 316
    },
    "id": "NSeDHpcicDso",
    "outputId": "69294274-26c7-4917-b4c7-853276b14d6a"
   },
   "outputs": [
    {
     "name": "stdout",
     "output_type": "stream",
     "text": [
      "Average number of days before stabilization: 47.7\n",
      "Average of the Day with peak Infection (758.5): 8.7\n",
      "Average Number of Casualties: 82.7\n"
     ]
    },
    {
     "data": {
      "image/png": "[encoded data removed]",
      "text/plain": [
       "<Figure size 432x288 with 1 Axes>"
      ]
     },
     "metadata": {
      "needs_background": "light"
     },
     "output_type": "display_data"
    }
   ],
   "source": [
    "StartingState = 0.25\n",
    "quarantine=False\n",
    "socialDistancing=False\n",
    "\n",
    "averageDays = 0\n",
    "dayWithMaxInfectionRate = 0\n",
    "maxInfection = 0\n",
    "averageCasualties = 0\n",
    "for i in range(10):\n",
    "    days, Casualties, QC_Occupancy, Infected = runSimulation(StartingState/100,quarantine,socialDistancing)\n",
    "    averageDays+=days\n",
    "    dayWithMaxInfectionRate+=Infected.idxmax()\n",
    "    maxInfection += Infected.max()\n",
    "    averageCasualties += Casualties\n",
    "    if i == 9:\n",
    "        # QC_Occupancy.plot(legend=True)\n",
    "        Infected.plot(legend=True)\n",
    "print('Average number of days before stabilization: ' + str(averageDays/10))\n",
    "print('Average of the Day with peak Infection ('+str(maxInfection/10)+'): ' + str(dayWithMaxInfectionRate/10))\n",
    "print('Average Number of Casualties: ' + str(averageCasualties/10))\n"
   ]
  },
  {
   "cell_type": "markdown",
   "metadata": {},
   "source": [
    "# Baseline 3\n",
    "StartingState = 50%\n",
    "\n",
    "Quarantine=False\n",
    "\n",
    "Social Distancing=False"
   ]
  },
  {
   "cell_type": "code",
   "execution_count": 69,
   "metadata": {},
   "outputs": [
    {
     "name": "stdout",
     "output_type": "stream",
     "text": [
      "Average number of days before stabilization: 789.9\n",
      "Average of the Day with peak Infection (803.1): 9.2\n",
      "Average Number of Casualties: 960.0\n"
     ]
    },
    {
     "data": {
      "image/png": "[encoded data removed]",
      "text/plain": [
       "<Figure size 432x288 with 1 Axes>"
      ]
     },
     "metadata": {
      "needs_background": "light"
     },
     "output_type": "display_data"
    }
   ],
   "source": [
    "StartingState = 0.5\n",
    "quarantine=False\n",
    "socialDistancing=False\n",
    "\n",
    "averageDays = 0\n",
    "dayWithMaxInfectionRate = 0\n",
    "maxInfection = 0\n",
    "averageCasualties = 0\n",
    "for i in range(10):\n",
    "    days, Casualties, QC_Occupancy, Infected = runSimulation(StartingState/100,quarantine,socialDistancing)\n",
    "    averageDays+=days\n",
    "    dayWithMaxInfectionRate+=Infected.idxmax()\n",
    "    maxInfection += Infected.max()\n",
    "    averageCasualties += Casualties\n",
    "    if i == 9:\n",
    "        # QC_Occupancy.plot(legend=True)\n",
    "        Infected.plot(legend=True)\n",
    "print('Average number of days before stabilization: ' + str(averageDays/10))\n",
    "print('Average of the Day with peak Infection ('+str(maxInfection/10)+'): ' + str(dayWithMaxInfectionRate/10))\n",
    "print('Average Number of Casualties: ' + str(averageCasualties/10))\n"
   ]
  },
  {
   "cell_type": "markdown",
   "metadata": {},
   "source": [
    "# Adding Quarantine Centers\n",
    "Enable quarantine centers for each baseline and see how the plots change\n",
    "In the line plot, include a plot for capacity of qurantine center too"
   ]
  },
  {
   "cell_type": "code",
   "execution_count": 70,
   "metadata": {},
   "outputs": [
    {
     "name": "stdout",
     "output_type": "stream",
     "text": [
      "Average number of days before stabilization: 95.2\n",
      "Average of the Day with peak Infection (781.1): 5.9\n",
      "Average Number of Casualties: 165.5\n",
      "Average of Max Quarantine centre capacity utilized: 100.0\n",
      "Average of Max Quarantine centre capacity utilized at: 5.0\n"
     ]
    },
    {
     "data": {
      "image/png": "[encoded data removed]",
      "text/plain": [
       "<Figure size 432x288 with 1 Axes>"
      ]
     },
     "metadata": {
      "needs_background": "light"
     },
     "output_type": "display_data"
    }
   ],
   "source": [
    "# Add code to generate plots with quarantine centers here\n",
    "StartingState = 0.1\n",
    "quarantine=True\n",
    "socialDistancing=False\n",
    "\n",
    "averageDays = 0\n",
    "dayWithMaxInfectionRate = 0\n",
    "maxInfection = 0\n",
    "averageCasualties = 0\n",
    "averageMaxCapacityDay = 0\n",
    "averageMaxCapacity = 0\n",
    "for i in range(10):\n",
    "    days, Casualties, QC_Occupancy, Infected = runSimulation(StartingState,quarantine,socialDistancing)\n",
    "    averageDays+=days\n",
    "    dayWithMaxInfectionRate+=Infected.idxmax()\n",
    "    maxInfection += Infected.max()\n",
    "    averageMaxCapacity += QC_Occupancy.max()\n",
    "    averageMaxCapacityDay += QC_Occupancy.idxmax()\n",
    "    averageCasualties += Casualties\n",
    "    if i == 9:\n",
    "        QC_Occupancy.plot(legend=True)\n",
    "        Infected.plot(legend=True)\n",
    "print('Average number of days before stabilization: ' + str(averageDays/10))\n",
    "print('Average of the Day with peak Infection ('+str(maxInfection/10)+'): ' + str(dayWithMaxInfectionRate/10))\n",
    "print('Average Number of Casualties: ' + str(averageCasualties/10))\n",
    "print('Average of Max Quarantine centre capacity utilized: ' + str(averageMaxCapacity/10))\n",
    "print('Average of Max Quarantine centre capacity utilized at: ' + str(averageMaxCapacityDay/10))"
   ]
  },
  {
   "cell_type": "markdown",
   "metadata": {},
   "source": [
    "# Enabling Social Distancing Norms\n",
    "Enable social distancing norms in addition to quaratine centers for each baseline and see how the plots change\n",
    "In the line plot, include a plot for capacity of qurantine center too"
   ]
  },
  {
   "cell_type": "code",
   "execution_count": 68,
   "metadata": {},
   "outputs": [
    {
     "name": "stdout",
     "output_type": "stream",
     "text": [
      "Average number of days before stabilization: 126.7\n",
      "Average of the Day with peak Infection (271.8): 9.5\n",
      "Average Number of Casualties: 90.3\n",
      "Average of Max Quarantine centre capacity utilized: 98.0\n",
      "Average of Max Quarantine centre capacity utilized at: 15.6\n"
     ]
    },
    {
     "data": {
      "image/png": "[encoded data removed]",
      "text/plain": [
       "<Figure size 432x288 with 1 Axes>"
      ]
     },
     "metadata": {
      "needs_background": "light"
     },
     "output_type": "display_data"
    }
   ],
   "source": [
    "# Add code to generate plots with social distancing and quarantine centers here\n",
    "StartingState = 0.1\n",
    "quarantine=True\n",
    "socialDistancing=True\n",
    "\n",
    "averageDays = 0\n",
    "dayWithMaxInfectionRate = 0\n",
    "maxInfection = 0\n",
    "averageCasualties = 0\n",
    "averageMaxCapacityDay = 0\n",
    "averageMaxCapacity = 0\n",
    "for i in range(10):\n",
    "    days, Casualties, QC_Occupancy, Infected = runSimulation(StartingState,quarantine,socialDistancing)\n",
    "    averageDays+=days\n",
    "    dayWithMaxInfectionRate+=Infected.idxmax()\n",
    "    maxInfection += Infected.max()\n",
    "    averageMaxCapacity += QC_Occupancy.max()\n",
    "    averageMaxCapacityDay += QC_Occupancy.idxmax()\n",
    "    averageCasualties += Casualties\n",
    "    if i == 9:\n",
    "        QC_Occupancy.plot(legend=True)\n",
    "        Infected.plot(legend=True)\n",
    "print('Average number of days before stabilization: ' + str(averageDays/10))\n",
    "print('Average of the Day with peak Infection ('+str(maxInfection/10)+'): ' + str(dayWithMaxInfectionRate/10))\n",
    "print('Average Number of Casualties: ' + str(averageCasualties/10))\n",
    "print('Average of Max Quarantine centre capacity utilized: ' + str(averageMaxCapacity/10))\n",
    "print('Average of Max Quarantine centre capacity utilized at: ' + str(averageMaxCapacityDay/10))"
   ]
  },
  {
   "cell_type": "code",
   "execution_count": null,
   "metadata": {},
   "outputs": [],
   "source": []
  }
 ],
 "metadata": {
  "colab": {
   "collapsed_sections": [],
   "name": "MESA_SC555.ipynb",
   "provenance": []
  },
  "kernelspec": {
   "display_name": "Python 3",
   "language": "python",
   "name": "python3"
  },
  "language_info": {
   "codemirror_mode": {
    "name": "ipython",
    "version": 3
   },
   "file_extension": ".py",
   "mimetype": "text/x-python",
   "name": "python",
   "nbconvert_exporter": "python",
   "pygments_lexer": "ipython3",
   "version": "3.8.5"
  }
 },
 "nbformat": 4,
 "nbformat_minor": 4
}
